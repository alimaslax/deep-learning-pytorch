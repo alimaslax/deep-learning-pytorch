{
 "cells": [
  {
   "cell_type": "markdown",
   "id": "e0bae89e-40f5-4451-bb51-968069a612cd",
   "metadata": {},
   "source": [
    "# Welcome To PyTorch\n",
    "\n",
    "These notes are from Harrisons Tutorial linked below:\n",
    "Data - Deep Learning and Neural Networks with Python and Pytorch \n",
    "https://youtu.be/i2yPxY2rOzs\n"
   ]
  },
  {
   "cell_type": "code",
   "execution_count": null,
   "id": "c0c4cda8-667a-43b2-b05d-3ad33bb658e5",
   "metadata": {
    "tags": []
   },
   "outputs": [],
   "source": [
    "# Here we are simply importing a balanced & batched training and testing data\n",
    "\n",
    "from torchvision import transforms, datasets\n",
    "\n",
    "train = datasets.MNIST('', train=True, download=True,\n",
    "                       transform=transforms.Compose([\n",
    "                           transforms.ToTensor()\n",
    "                       ]))\n",
    "\n",
    "test = datasets.MNIST('', train=False, download=True,\n",
    "                      transform=transforms.Compose([\n",
    "                          transforms.ToTensor()\n",
    "                      ]))"
   ]
  },
  {
   "cell_type": "code",
   "execution_count": null,
   "id": "8cdd5b51-b45a-4eae-a9a0-450eb74905da",
   "metadata": {},
   "outputs": [],
   "source": [
    "import torch.nn as nn\n",
    "import torch.nn.functional as F\n",
    "\n",
    "class Net(nn.Module):\n",
    "    def __init__(self):\n",
    "        super().__init__()\n",
    "        self.fc1 = nn.Linear(28*28, 64)\n",
    "        self.fc2 = nn.Linear(64, 64)\n",
    "        self.fc3 = nn.Linear(64, 64)\n",
    "        self.fc4 = nn.Linear(64, 10)\n",
    "\n",
    "    def forward(self, x):\n",
    "        x = F.relu(self.fc1(x))\n",
    "        x = F.relu(self.fc2(x))\n",
    "        x = F.relu(self.fc3(x))\n",
    "        x = self.fc4(x)\n",
    "        return F.log_softmax(x, dim=1)\n",
    "net = Net()\n",
    "print(net)"
   ]
  },
  {
   "cell_type": "markdown",
   "id": "35ee1c99-8e8b-4c15-941d-e1dab82d783f",
   "metadata": {},
   "source": []
  }
 ],
 "metadata": {
  "kernelspec": {
   "display_name": "Python 3 (ipykernel)",
   "language": "python",
   "name": "python3"
  },
  "language_info": {
   "codemirror_mode": {
    "name": "ipython",
    "version": 3
   },
   "file_extension": ".py",
   "mimetype": "text/x-python",
   "name": "python",
   "nbconvert_exporter": "python",
   "pygments_lexer": "ipython3",
   "version": "3.9.5"
  }
 },
 "nbformat": 4,
 "nbformat_minor": 5
}
